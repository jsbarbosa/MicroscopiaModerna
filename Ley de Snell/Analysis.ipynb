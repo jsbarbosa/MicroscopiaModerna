{
 "cells": [
  {
   "cell_type": "code",
   "execution_count": 1,
   "metadata": {
    "collapsed": true
   },
   "outputs": [],
   "source": [
    "import numpy as np\n",
    "import matplotlib.pyplot as plt"
   ]
  },
  {
   "cell_type": "code",
   "execution_count": 16,
   "metadata": {
    "collapsed": true
   },
   "outputs": [],
   "source": [
    "snelldata = np.genfromtxt('snell.csv', delimiter = ',', skip_header = 1)"
   ]
  },
  {
   "cell_type": "code",
   "execution_count": 17,
   "metadata": {
    "collapsed": false
   },
   "outputs": [],
   "source": [
    "snelldata = np.deg2rad(snelldata)"
   ]
  },
  {
   "cell_type": "code",
   "execution_count": 28,
   "metadata": {
    "collapsed": false
   },
   "outputs": [],
   "source": [
    "y = np.sin(snelldata[:, 0]) # incidente\n",
    "x = np.sin(snelldata[:, 1]) # refractado"
   ]
  },
  {
   "cell_type": "code",
   "execution_count": 41,
   "metadata": {
    "collapsed": false
   },
   "outputs": [],
   "source": [
    "m = np.linalg.lstsq(x[:, np.newaxis], y)[0]\n",
    "\n",
    "yy = m*x\n",
    "n = len(x)\n",
    "\n",
    "ye = ((y - yy)**2).sum()\n",
    "xe = ((x - x.mean())**2).sum()\n",
    "\n",
    "dm = np.sqrt(ye/((n-2)*xe))"
   ]
  },
  {
   "cell_type": "code",
   "execution_count": 46,
   "metadata": {
    "collapsed": false
   },
   "outputs": [
    {
     "data": {
      "image/png": "[encoded data removed]",
      "text/plain": [
       "<matplotlib.figure.Figure at 0x7f312ffe2d30>"
      ]
     },
     "metadata": {},
     "output_type": "display_data"
    }
   ],
   "source": [
    "plt.plot(x, y, '-o')\n",
    "\n",
    "xx = np.linspace(0.1, 0.7, 10)\n",
    "plt.plot(xx, m*xx, \"--\", c='k')\n",
    "plt.text(0.5, 0.6, r\"$y(x) = (%.2f \\pm %.2f)x$\"%(m, dm))\n",
    "\n",
    "plt.xlabel(r'$\\sin(\\theta_r)$')\n",
    "plt.ylabel(r'$\\sin(\\theta_i)$')\n",
    "\n",
    "plt.savefig('indice.pdf')\n",
    "plt.show()"
   ]
  },
  {
   "cell_type": "code",
   "execution_count": null,
   "metadata": {
    "collapsed": true
   },
   "outputs": [],
   "source": []
  }
 ],
 "metadata": {
  "anaconda-cloud": {},
  "kernelspec": {
   "display_name": "Python [conda root]",
   "language": "python",
   "name": "conda-root-py"
  },
  "language_info": {
   "codemirror_mode": {
    "name": "ipython",
    "version": 3
   },
   "file_extension": ".py",
   "mimetype": "text/x-python",
   "name": "python",
   "nbconvert_exporter": "python",
   "pygments_lexer": "ipython3",
   "version": "3.4.4"
  }
 },
 "nbformat": 4,
 "nbformat_minor": 2
}
